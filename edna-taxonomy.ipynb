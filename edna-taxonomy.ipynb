{
 "cells": [
  {
   "cell_type": "code",
   "execution_count": 1,
   "id": "6d9cfa40",
   "metadata": {
    "_cell_guid": "b1076dfc-b9ad-4769-8c92-a6c4dae69d19",
    "_uuid": "8f2839f25d086af736a60e9eeb907d3b93b6e0e5",
    "execution": {
     "iopub.execute_input": "2025-09-27T20:52:49.720841Z",
     "iopub.status.busy": "2025-09-27T20:52:49.720513Z",
     "iopub.status.idle": "2025-09-27T20:52:58.148156Z",
     "shell.execute_reply": "2025-09-27T20:52:58.147113Z"
    },
    "papermill": {
     "duration": 8.432775,
     "end_time": "2025-09-27T20:52:58.149770",
     "exception": false,
     "start_time": "2025-09-27T20:52:49.716995",
     "status": "completed"
    },
    "tags": []
   },
   "outputs": [
    {
     "name": "stdout",
     "output_type": "stream",
     "text": [
      "/kaggle/input/taxonomy-dataset/16S_sequences.fasta\n"
     ]
    }
   ],
   "source": [
    "# This Python 3 environment comes with many helpful analytics libraries installed\n",
    "# It is defined by the kaggle/python Docker image: https://github.com/kaggle/docker-python\n",
    "# For example, here's several helpful packages to load\n",
    "\n",
    "import numpy as np # linear algebra\n",
    "import pandas as pd # data processing, CSV file I/O (e.g. pd.read_csv)\n",
    "import matplotlib.pyplot as plt\n",
    "import torch\n",
    "\n",
    "# Input data files are available in the read-only \"../input/\" directory\n",
    "# For example, running this (by clicking run or pressing Shift+Enter) will list all files under the input directory\n",
    "\n",
    "import os\n",
    "for dirname, _, filenames in os.walk('/kaggle/input'):\n",
    "    for filename in filenames:\n",
    "        print(os.path.join(dirname, filename))\n",
    "\n",
    "# You can write up to 20GB to the current directory (/kaggle/working/) that gets preserved as output when you create a version using \"Save & Run All\" \n",
    "# You can also write temporary files to /kaggle/temp/, but they won't be saved outside of the current session"
   ]
  },
  {
   "cell_type": "code",
   "execution_count": 2,
   "id": "3784dcbb",
   "metadata": {
    "execution": {
     "iopub.execute_input": "2025-09-27T20:52:58.155119Z",
     "iopub.status.busy": "2025-09-27T20:52:58.154638Z",
     "iopub.status.idle": "2025-09-27T20:52:59.171109Z",
     "shell.execute_reply": "2025-09-27T20:52:59.170065Z"
    },
    "papermill": {
     "duration": 1.020649,
     "end_time": "2025-09-27T20:52:59.172770",
     "exception": false,
     "start_time": "2025-09-27T20:52:58.152121",
     "status": "completed"
    },
    "tags": []
   },
   "outputs": [],
   "source": [
    "fasta_path = \"/kaggle/input/taxonomy-dataset/16S_sequences.fasta\"\n",
    "\n",
    "sequences = []\n",
    "seq_records = set()\n",
    "\n",
    "\n",
    "def read_from_file(fasta_path, min_length, remove_duplicates):\n",
    "    seq = \"\"\n",
    "    header = \"\"\n",
    "    with open(fasta_path, \"r\") as f:\n",
    "        for line in f:\n",
    "            if line.startswith(\">\"):\n",
    "                header = line[1:].strip()\n",
    "                if seq:\n",
    "                    seq = seq.upper()\n",
    "                    seq = seq.replace(\"N\", \"\")\n",
    "                    if len(seq) >= min_length:\n",
    "                        if remove_duplicates:\n",
    "                            if seq not in seq_records:\n",
    "                                seq_records.add(seq)\n",
    "                                specie_id = header[3:].split()[0]\n",
    "                                specie_id = specie_id[:-2]\n",
    "                                species_name = \" \".join(header.split()[1:3])\n",
    "                                sequences.append((specie_id, species_name, seq))\n",
    "                            else:\n",
    "                                sequences.append((specie_id, species_name, seq))\n",
    "                        seq = \"\"\n",
    "                    header = \"\"\n",
    "            else:\n",
    "                seq += line.strip()\n",
    "    return sequences\n",
    "\n",
    "data = read_from_file(fasta_path, 100, True)"
   ]
  },
  {
   "cell_type": "code",
   "execution_count": 3,
   "id": "5b1b05ff",
   "metadata": {
    "execution": {
     "iopub.execute_input": "2025-09-27T20:52:59.177737Z",
     "iopub.status.busy": "2025-09-27T20:52:59.177435Z",
     "iopub.status.idle": "2025-09-27T20:52:59.218172Z",
     "shell.execute_reply": "2025-09-27T20:52:59.217254Z"
    },
    "papermill": {
     "duration": 0.044795,
     "end_time": "2025-09-27T20:52:59.219605",
     "exception": false,
     "start_time": "2025-09-27T20:52:59.174810",
     "status": "completed"
    },
    "tags": []
   },
   "outputs": [
    {
     "data": {
      "text/html": [
       "<div>\n",
       "<style scoped>\n",
       "    .dataframe tbody tr th:only-of-type {\n",
       "        vertical-align: middle;\n",
       "    }\n",
       "\n",
       "    .dataframe tbody tr th {\n",
       "        vertical-align: top;\n",
       "    }\n",
       "\n",
       "    .dataframe thead th {\n",
       "        text-align: right;\n",
       "    }\n",
       "</style>\n",
       "<table border=\"1\" class=\"dataframe\">\n",
       "  <thead>\n",
       "    <tr style=\"text-align: right;\">\n",
       "      <th></th>\n",
       "      <th>label_id</th>\n",
       "      <th>label</th>\n",
       "      <th>sequence</th>\n",
       "    </tr>\n",
       "  </thead>\n",
       "  <tbody>\n",
       "    <tr>\n",
       "      <th>0</th>\n",
       "      <td>118899</td>\n",
       "      <td>Actinomyces bovis</td>\n",
       "      <td>GGTCTATACCGGATATAACAACTCATGGCATGGTTGGTAGTGGAAA...</td>\n",
       "    </tr>\n",
       "    <tr>\n",
       "      <th>1</th>\n",
       "      <td>074334</td>\n",
       "      <td>Archaeoglobus fulgidus</td>\n",
       "      <td>GGGTGAGTAACACGTGAGTAACCTGCCCCACTTCTGGATAACCGCT...</td>\n",
       "    </tr>\n",
       "    <tr>\n",
       "      <th>2</th>\n",
       "      <td>118890</td>\n",
       "      <td>Actinokineospora fastidiosa</td>\n",
       "      <td>ATTCTGGTTGATCCTGCCAGAGGCCGCTGCTATCCGGCTGGGACTA...</td>\n",
       "    </tr>\n",
       "    <tr>\n",
       "      <th>3</th>\n",
       "      <td>044838</td>\n",
       "      <td>Atopobium minutum</td>\n",
       "      <td>TACTTTGGGATAAGCCTGGGAAACTGGGTCTATACCGGATATGACA...</td>\n",
       "    </tr>\n",
       "    <tr>\n",
       "      <th>4</th>\n",
       "      <td>118908</td>\n",
       "      <td>Amycolatopsis methanolica</td>\n",
       "      <td>TTGAACGGAGAGTTCGACCTGGCTCAGGATGAACGCTGGCGGCGCG...</td>\n",
       "    </tr>\n",
       "  </tbody>\n",
       "</table>\n",
       "</div>"
      ],
      "text/plain": [
       "  label_id                        label  \\\n",
       "0   118899            Actinomyces bovis   \n",
       "1   074334       Archaeoglobus fulgidus   \n",
       "2   118890  Actinokineospora fastidiosa   \n",
       "3   044838            Atopobium minutum   \n",
       "4   118908    Amycolatopsis methanolica   \n",
       "\n",
       "                                            sequence  \n",
       "0  GGTCTATACCGGATATAACAACTCATGGCATGGTTGGTAGTGGAAA...  \n",
       "1  GGGTGAGTAACACGTGAGTAACCTGCCCCACTTCTGGATAACCGCT...  \n",
       "2  ATTCTGGTTGATCCTGCCAGAGGCCGCTGCTATCCGGCTGGGACTA...  \n",
       "3  TACTTTGGGATAAGCCTGGGAAACTGGGTCTATACCGGATATGACA...  \n",
       "4  TTGAACGGAGAGTTCGACCTGGCTCAGGATGAACGCTGGCGGCGCG...  "
      ]
     },
     "execution_count": 3,
     "metadata": {},
     "output_type": "execute_result"
    }
   ],
   "source": [
    "df = pd.DataFrame(data, columns=['label_id', 'label', 'sequence'])\n",
    "df.head()"
   ]
  },
  {
   "cell_type": "code",
   "execution_count": 4,
   "id": "f52ff15f",
   "metadata": {
    "execution": {
     "iopub.execute_input": "2025-09-27T20:52:59.224901Z",
     "iopub.status.busy": "2025-09-27T20:52:59.224556Z",
     "iopub.status.idle": "2025-09-27T20:53:01.146643Z",
     "shell.execute_reply": "2025-09-27T20:53:01.145317Z"
    },
    "papermill": {
     "duration": 1.926801,
     "end_time": "2025-09-27T20:53:01.148507",
     "exception": false,
     "start_time": "2025-09-27T20:52:59.221706",
     "status": "completed"
    },
    "tags": []
   },
   "outputs": [
    {
     "name": "stderr",
     "output_type": "stream",
     "text": [
      "/usr/local/lib/python3.11/dist-packages/pandas/io/formats/format.py:1458: RuntimeWarning: invalid value encountered in greater\n",
      "  has_large_values = (abs_vals > 1e6).any()\n",
      "/usr/local/lib/python3.11/dist-packages/pandas/io/formats/format.py:1459: RuntimeWarning: invalid value encountered in less\n",
      "  has_small_values = ((abs_vals < 10 ** (-self.digits)) & (abs_vals > 0)).any()\n",
      "/usr/local/lib/python3.11/dist-packages/pandas/io/formats/format.py:1459: RuntimeWarning: invalid value encountered in greater\n",
      "  has_small_values = ((abs_vals < 10 ** (-self.digits)) & (abs_vals > 0)).any()\n"
     ]
    },
    {
     "data": {
      "text/html": [
       "<div>\n",
       "<style scoped>\n",
       "    .dataframe tbody tr th:only-of-type {\n",
       "        vertical-align: middle;\n",
       "    }\n",
       "\n",
       "    .dataframe tbody tr th {\n",
       "        vertical-align: top;\n",
       "    }\n",
       "\n",
       "    .dataframe thead th {\n",
       "        text-align: right;\n",
       "    }\n",
       "</style>\n",
       "<table border=\"1\" class=\"dataframe\">\n",
       "  <thead>\n",
       "    <tr style=\"text-align: right;\">\n",
       "      <th></th>\n",
       "      <th>label_id</th>\n",
       "      <th>label</th>\n",
       "      <th>sequence</th>\n",
       "    </tr>\n",
       "  </thead>\n",
       "  <tbody>\n",
       "    <tr>\n",
       "      <th>0</th>\n",
       "      <td>NaN</td>\n",
       "      <td>Actinomyces bovis</td>\n",
       "      <td>GGTCTATACCGGATATAACAACTCATGGCATGGTTGGTAGTGGAAA...</td>\n",
       "    </tr>\n",
       "    <tr>\n",
       "      <th>1</th>\n",
       "      <td>NaN</td>\n",
       "      <td>Archaeoglobus fulgidus</td>\n",
       "      <td>GGGTGAGTAACACGTGAGTAACCTGCCCCACTTCTGGATAACCGCT...</td>\n",
       "    </tr>\n",
       "    <tr>\n",
       "      <th>2</th>\n",
       "      <td>NaN</td>\n",
       "      <td>Actinokineospora fastidiosa</td>\n",
       "      <td>ATTCTGGTTGATCCTGCCAGAGGCCGCTGCTATCCGGCTGGGACTA...</td>\n",
       "    </tr>\n",
       "    <tr>\n",
       "      <th>3</th>\n",
       "      <td>NaN</td>\n",
       "      <td>Atopobium minutum</td>\n",
       "      <td>TACTTTGGGATAAGCCTGGGAAACTGGGTCTATACCGGATATGACA...</td>\n",
       "    </tr>\n",
       "    <tr>\n",
       "      <th>4</th>\n",
       "      <td>NaN</td>\n",
       "      <td>Amycolatopsis methanolica</td>\n",
       "      <td>TTGAACGGAGAGTTCGACCTGGCTCAGGATGAACGCTGGCGGCGCG...</td>\n",
       "    </tr>\n",
       "    <tr>\n",
       "      <th>...</th>\n",
       "      <td>...</td>\n",
       "      <td>...</td>\n",
       "      <td>...</td>\n",
       "    </tr>\n",
       "    <tr>\n",
       "      <th>27348</th>\n",
       "      <td>NaN</td>\n",
       "      <td>Hongsoonwoonella zoysiae</td>\n",
       "      <td>GAAGGAGAAGCACCTTTCGGGGTGTGGACACTGGCGCACGGGTGAG...</td>\n",
       "    </tr>\n",
       "    <tr>\n",
       "      <th>27349</th>\n",
       "      <td>NaN</td>\n",
       "      <td>Insulibacter thermoxylanivorax</td>\n",
       "      <td>TGGCGGCAGGCCTAACACATGCAAGTCGAACGGACCCTTCGGGGTT...</td>\n",
       "    </tr>\n",
       "    <tr>\n",
       "      <th>27350</th>\n",
       "      <td>NaN</td>\n",
       "      <td>Haloarcula amylovorans</td>\n",
       "      <td>CTAATACATGCAAGTCGAGCGGAGTCATCCGGCTGAAGTCTTCGGA...</td>\n",
       "    </tr>\n",
       "    <tr>\n",
       "      <th>27351</th>\n",
       "      <td>NaN</td>\n",
       "      <td>Wocania indica</td>\n",
       "      <td>TTGATCCTGCCGGAGGCCATTGCTATCGGAGTCCGATTTAGCCATG...</td>\n",
       "    </tr>\n",
       "    <tr>\n",
       "      <th>27352</th>\n",
       "      <td>NaN</td>\n",
       "      <td>Gluconacetobacter dulcium</td>\n",
       "      <td>GATGAACGCTAGCGGCAGGCCTAACACATGCAAGTCGAGGGGTAAC...</td>\n",
       "    </tr>\n",
       "  </tbody>\n",
       "</table>\n",
       "<p>27353 rows × 3 columns</p>\n",
       "</div>"
      ],
      "text/plain": [
       "       label_id                           label  \\\n",
       "0           NaN               Actinomyces bovis   \n",
       "1           NaN          Archaeoglobus fulgidus   \n",
       "2           NaN     Actinokineospora fastidiosa   \n",
       "3           NaN               Atopobium minutum   \n",
       "4           NaN       Amycolatopsis methanolica   \n",
       "...         ...                             ...   \n",
       "27348       NaN        Hongsoonwoonella zoysiae   \n",
       "27349       NaN  Insulibacter thermoxylanivorax   \n",
       "27350       NaN          Haloarcula amylovorans   \n",
       "27351       NaN                  Wocania indica   \n",
       "27352       NaN       Gluconacetobacter dulcium   \n",
       "\n",
       "                                                sequence  \n",
       "0      GGTCTATACCGGATATAACAACTCATGGCATGGTTGGTAGTGGAAA...  \n",
       "1      GGGTGAGTAACACGTGAGTAACCTGCCCCACTTCTGGATAACCGCT...  \n",
       "2      ATTCTGGTTGATCCTGCCAGAGGCCGCTGCTATCCGGCTGGGACTA...  \n",
       "3      TACTTTGGGATAAGCCTGGGAAACTGGGTCTATACCGGATATGACA...  \n",
       "4      TTGAACGGAGAGTTCGACCTGGCTCAGGATGAACGCTGGCGGCGCG...  \n",
       "...                                                  ...  \n",
       "27348  GAAGGAGAAGCACCTTTCGGGGTGTGGACACTGGCGCACGGGTGAG...  \n",
       "27349  TGGCGGCAGGCCTAACACATGCAAGTCGAACGGACCCTTCGGGGTT...  \n",
       "27350  CTAATACATGCAAGTCGAGCGGAGTCATCCGGCTGAAGTCTTCGGA...  \n",
       "27351  TTGATCCTGCCGGAGGCCATTGCTATCGGAGTCCGATTTAGCCATG...  \n",
       "27352  GATGAACGCTAGCGGCAGGCCTAACACATGCAAGTCGAGGGGTAAC...  \n",
       "\n",
       "[27353 rows x 3 columns]"
      ]
     },
     "execution_count": 4,
     "metadata": {},
     "output_type": "execute_result"
    }
   ],
   "source": [
    "from sklearn.model_selection import train_test_split\n",
    "\n",
    "labels = df['label'].unique().tolist()\n",
    "label2id = {\"label\":i for i in range(len(labels))}\n",
    "df[\"label_id\"] = df[\"label\"].map(label2id)\n",
    "df"
   ]
  }
 ],
 "metadata": {
  "kaggle": {
   "accelerator": "none",
   "dataSources": [
    {
     "datasetId": 8359364,
     "sourceId": 13190898,
     "sourceType": "datasetVersion"
    }
   ],
   "dockerImageVersionId": 31089,
   "isGpuEnabled": false,
   "isInternetEnabled": false,
   "language": "python",
   "sourceType": "notebook"
  },
  "kernelspec": {
   "display_name": "Python 3",
   "language": "python",
   "name": "python3"
  },
  "language_info": {
   "codemirror_mode": {
    "name": "ipython",
    "version": 3
   },
   "file_extension": ".py",
   "mimetype": "text/x-python",
   "name": "python",
   "nbconvert_exporter": "python",
   "pygments_lexer": "ipython3",
   "version": "3.11.13"
  },
  "papermill": {
   "default_parameters": {},
   "duration": 20.020805,
   "end_time": "2025-09-27T20:53:03.571006",
   "environment_variables": {},
   "exception": null,
   "input_path": "__notebook__.ipynb",
   "output_path": "__notebook__.ipynb",
   "parameters": {},
   "start_time": "2025-09-27T20:52:43.550201",
   "version": "2.6.0"
  }
 },
 "nbformat": 4,
 "nbformat_minor": 5
}
