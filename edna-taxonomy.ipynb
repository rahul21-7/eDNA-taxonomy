{
 "cells": [
  {
   "cell_type": "code",
   "execution_count": 1,
   "id": "05e2838e",
   "metadata": {
    "_cell_guid": "b1076dfc-b9ad-4769-8c92-a6c4dae69d19",
    "_uuid": "8f2839f25d086af736a60e9eeb907d3b93b6e0e5",
    "execution": {
     "iopub.execute_input": "2025-09-27T21:37:19.484988Z",
     "iopub.status.busy": "2025-09-27T21:37:19.484656Z",
     "iopub.status.idle": "2025-09-27T21:37:27.499826Z",
     "shell.execute_reply": "2025-09-27T21:37:27.498693Z"
    },
    "papermill": {
     "duration": 8.020993,
     "end_time": "2025-09-27T21:37:27.501681",
     "exception": false,
     "start_time": "2025-09-27T21:37:19.480688",
     "status": "completed"
    },
    "tags": []
   },
   "outputs": [
    {
     "name": "stdout",
     "output_type": "stream",
     "text": [
      "/kaggle/input/taxonomy-dataset/16S_sequences.fasta\n"
     ]
    }
   ],
   "source": [
    "# This Python 3 environment comes with many helpful analytics libraries installed\n",
    "# It is defined by the kaggle/python Docker image: https://github.com/kaggle/docker-python\n",
    "# For example, here's several helpful packages to load\n",
    "\n",
    "import numpy as np # linear algebra\n",
    "import pandas as pd # data processing, CSV file I/O (e.g. pd.read_csv)\n",
    "import matplotlib.pyplot as plt\n",
    "import torch\n",
    "\n",
    "# Input data files are available in the read-only \"../input/\" directory\n",
    "# For example, running this (by clicking run or pressing Shift+Enter) will list all files under the input directory\n",
    "\n",
    "import os\n",
    "for dirname, _, filenames in os.walk('/kaggle/input'):\n",
    "    for filename in filenames:\n",
    "        print(os.path.join(dirname, filename))\n",
    "\n",
    "# You can write up to 20GB to the current directory (/kaggle/working/) that gets preserved as output when you create a version using \"Save & Run All\" \n",
    "# You can also write temporary files to /kaggle/temp/, but they won't be saved outside of the current session"
   ]
  },
  {
   "cell_type": "code",
   "execution_count": 2,
   "id": "4cf074bc",
   "metadata": {
    "execution": {
     "iopub.execute_input": "2025-09-27T21:37:27.508082Z",
     "iopub.status.busy": "2025-09-27T21:37:27.507590Z",
     "iopub.status.idle": "2025-09-27T21:37:28.588820Z",
     "shell.execute_reply": "2025-09-27T21:37:28.587334Z"
    },
    "papermill": {
     "duration": 1.086729,
     "end_time": "2025-09-27T21:37:28.591081",
     "exception": false,
     "start_time": "2025-09-27T21:37:27.504352",
     "status": "completed"
    },
    "tags": []
   },
   "outputs": [],
   "source": [
    "fasta_path = \"/kaggle/input/taxonomy-dataset/16S_sequences.fasta\"\n",
    "\n",
    "sequences = []\n",
    "seq_records = set()\n",
    "\n",
    "\n",
    "def read_from_file(fasta_path, min_length, remove_duplicates):\n",
    "    seq = \"\"\n",
    "    header = \"\"\n",
    "    with open(fasta_path, \"r\") as f:\n",
    "        for line in f:\n",
    "            if line.startswith(\">\"):\n",
    "                header = line[1:].strip()\n",
    "                if seq:\n",
    "                    seq = seq.upper()\n",
    "                    seq = seq.replace(\"N\", \"\")\n",
    "                    if len(seq) >= min_length:\n",
    "                        if remove_duplicates:\n",
    "                            if seq not in seq_records:\n",
    "                                seq_records.add(seq)\n",
    "                                specie_id = header[3:].split()[0]\n",
    "                                specie_id = specie_id[:-2]\n",
    "                                species_name = \" \".join(header.split()[1:3])\n",
    "                                sequences.append((specie_id, species_name, seq))\n",
    "                            else:\n",
    "                                sequences.append((specie_id, species_name, seq))\n",
    "                        seq = \"\"\n",
    "                    header = \"\"\n",
    "            else:\n",
    "                seq += line.strip()\n",
    "    return sequences\n",
    "\n",
    "data = read_from_file(fasta_path, 100, True)"
   ]
  },
  {
   "cell_type": "code",
   "execution_count": 3,
   "id": "ba934384",
   "metadata": {
    "execution": {
     "iopub.execute_input": "2025-09-27T21:37:28.596994Z",
     "iopub.status.busy": "2025-09-27T21:37:28.596657Z",
     "iopub.status.idle": "2025-09-27T21:37:28.640532Z",
     "shell.execute_reply": "2025-09-27T21:37:28.639441Z"
    },
    "papermill": {
     "duration": 0.048777,
     "end_time": "2025-09-27T21:37:28.642220",
     "exception": false,
     "start_time": "2025-09-27T21:37:28.593443",
     "status": "completed"
    },
    "tags": []
   },
   "outputs": [
    {
     "data": {
      "text/html": [
       "<div>\n",
       "<style scoped>\n",
       "    .dataframe tbody tr th:only-of-type {\n",
       "        vertical-align: middle;\n",
       "    }\n",
       "\n",
       "    .dataframe tbody tr th {\n",
       "        vertical-align: top;\n",
       "    }\n",
       "\n",
       "    .dataframe thead th {\n",
       "        text-align: right;\n",
       "    }\n",
       "</style>\n",
       "<table border=\"1\" class=\"dataframe\">\n",
       "  <thead>\n",
       "    <tr style=\"text-align: right;\">\n",
       "      <th></th>\n",
       "      <th>label_id</th>\n",
       "      <th>label</th>\n",
       "      <th>sequence</th>\n",
       "    </tr>\n",
       "  </thead>\n",
       "  <tbody>\n",
       "    <tr>\n",
       "      <th>0</th>\n",
       "      <td>118899</td>\n",
       "      <td>Actinomyces bovis</td>\n",
       "      <td>GGTCTATACCGGATATAACAACTCATGGCATGGTTGGTAGTGGAAA...</td>\n",
       "    </tr>\n",
       "    <tr>\n",
       "      <th>1</th>\n",
       "      <td>074334</td>\n",
       "      <td>Archaeoglobus fulgidus</td>\n",
       "      <td>GGGTGAGTAACACGTGAGTAACCTGCCCCACTTCTGGATAACCGCT...</td>\n",
       "    </tr>\n",
       "    <tr>\n",
       "      <th>2</th>\n",
       "      <td>118890</td>\n",
       "      <td>Actinokineospora fastidiosa</td>\n",
       "      <td>ATTCTGGTTGATCCTGCCAGAGGCCGCTGCTATCCGGCTGGGACTA...</td>\n",
       "    </tr>\n",
       "    <tr>\n",
       "      <th>3</th>\n",
       "      <td>044838</td>\n",
       "      <td>Atopobium minutum</td>\n",
       "      <td>TACTTTGGGATAAGCCTGGGAAACTGGGTCTATACCGGATATGACA...</td>\n",
       "    </tr>\n",
       "    <tr>\n",
       "      <th>4</th>\n",
       "      <td>118908</td>\n",
       "      <td>Amycolatopsis methanolica</td>\n",
       "      <td>TTGAACGGAGAGTTCGACCTGGCTCAGGATGAACGCTGGCGGCGCG...</td>\n",
       "    </tr>\n",
       "  </tbody>\n",
       "</table>\n",
       "</div>"
      ],
      "text/plain": [
       "  label_id                        label  \\\n",
       "0   118899            Actinomyces bovis   \n",
       "1   074334       Archaeoglobus fulgidus   \n",
       "2   118890  Actinokineospora fastidiosa   \n",
       "3   044838            Atopobium minutum   \n",
       "4   118908    Amycolatopsis methanolica   \n",
       "\n",
       "                                            sequence  \n",
       "0  GGTCTATACCGGATATAACAACTCATGGCATGGTTGGTAGTGGAAA...  \n",
       "1  GGGTGAGTAACACGTGAGTAACCTGCCCCACTTCTGGATAACCGCT...  \n",
       "2  ATTCTGGTTGATCCTGCCAGAGGCCGCTGCTATCCGGCTGGGACTA...  \n",
       "3  TACTTTGGGATAAGCCTGGGAAACTGGGTCTATACCGGATATGACA...  \n",
       "4  TTGAACGGAGAGTTCGACCTGGCTCAGGATGAACGCTGGCGGCGCG...  "
      ]
     },
     "execution_count": 3,
     "metadata": {},
     "output_type": "execute_result"
    }
   ],
   "source": [
    "df = pd.DataFrame(data, columns=['label_id', 'label', 'sequence'])\n",
    "df.head()"
   ]
  },
  {
   "cell_type": "code",
   "execution_count": 4,
   "id": "10024700",
   "metadata": {
    "execution": {
     "iopub.execute_input": "2025-09-27T21:37:28.648792Z",
     "iopub.status.busy": "2025-09-27T21:37:28.648410Z",
     "iopub.status.idle": "2025-09-27T21:37:30.532247Z",
     "shell.execute_reply": "2025-09-27T21:37:30.530655Z"
    },
    "papermill": {
     "duration": 1.889185,
     "end_time": "2025-09-27T21:37:30.534158",
     "exception": false,
     "start_time": "2025-09-27T21:37:28.644973",
     "status": "completed"
    },
    "tags": []
   },
   "outputs": [],
   "source": [
    "from sklearn.model_selection import train_test_split\n",
    "\n",
    "X = df[\"sequence\"]\n",
    "y = df[\"label\"]\n",
    "\n",
    "X_train, X_test, y_train, y_test = train_test_split(\n",
    "    X,\n",
    "    y,\n",
    ")"
   ]
  },
  {
   "cell_type": "code",
   "execution_count": 5,
   "id": "c2f82a86",
   "metadata": {
    "execution": {
     "iopub.execute_input": "2025-09-27T21:37:30.540376Z",
     "iopub.status.busy": "2025-09-27T21:37:30.539945Z",
     "iopub.status.idle": "2025-09-27T21:37:35.765306Z",
     "shell.execute_reply": "2025-09-27T21:37:35.764229Z"
    },
    "papermill": {
     "duration": 5.230791,
     "end_time": "2025-09-27T21:37:35.767418",
     "exception": false,
     "start_time": "2025-09-27T21:37:30.536627",
     "status": "completed"
    },
    "tags": []
   },
   "outputs": [
    {
     "data": {
      "text/plain": [
       "['GGT GTC TCT CTA TAT ATA TAC ACC CCG CGG GGA GAT ATA TAT ATA TAA AAC ACA CAA AAC ACT CTC TCA CAT ATG TGG GGC GCA CAT ATG TGG GGT GTT TTG TGG GGT GTA TAG AGT GTG TGG GGA GAA AAA AAG AGC GCT CTC TCC CCG CGG GGC GCG CGG GGT GTA TAC ACG CGG GGG GGA GAT ATG TGA GAG AGC GCC CCC CCG CGC GCG CGG GGC GCC CCT CTA TAT ATC TCA CAG AGC GCT CTT TTG TGT GTT TTG TGG GGT GTG TGG GGG GGG GGT GTA TAA AAT ATG TGG GGC GCC CCT CTA TAC ACC CCA CAA AAG AGG GGC GCG CGA GAC ACG CGA GAC ACG CGG GGG GGT GTA TAG AGC GCC CCG CGG GGC GCC CCT CTG TGA GAG AGA GAG AGG GGG GGT GTG TGA GAC ACC CCG CGG GGC GCA CAC ACA CAC ACT CTG TGG GGG GGA GAC ACT CTG TGA GAG AGA GAC ACA CAC ACG CGG GGC GCC CCA CAG AGA GAC ACT CTC TCC CCT CTA TAC ACG CGG GGA GAG AGG GGA GAG AGC GCA CAG AGT GTG TGG GGG GGG GGA GAA AAT ATA TAT ATT TTG TGC GCC CCA CAA AAT ATG TGG GGG GGC GCG CGA GAA AAA AAG AGC GCC CCT CTA TAT ATG TGC GCA CAG AGC GCG CGA GAC ACG CGC GCC CCG CGC GCG CGT GTG TGA GAG AGG GGG GGA GAT ATG TGA GAC ACG CGG GGC GCT CTT TTC TCG CGG GGG GGT GTT TTG TGT GTA TAA AAA AAC ACC CCT CTT TTT TTT TTT TTC TCG CGC GCC CCA CAG AGG GGG GGA GAC ACG CGA GAA AAG AGC GCG CGC GCA CAA AAG AGT GTG TGA GAC ACG CGG GGT GTA TAC ACC CCT CTG TGG GGA GAG AGA GAA AAG AGA GAA AAG AGC GCA CAC ACC CCG CGG GGC GCT CTA TAA AAC ACT CTA TAC ACG CGT GTG TGC GCC CCA CAG AGC GCA CAG AGC GCC CCG CGC GCG CGG GGT GTA TAA AAT ATA TAC ACG CGT GTA TAG AGG GGG GGT GTG TGC GCG CGA GAG AGC GCG CGT GTT TTG TGT GTC TCC CCG CGG GGA GAA AAT ATT TTA TAC ACC CCG CGG GGG GGC GCG CGT GTA TAA AAA AAG AGA GAG AGC GCT CTG TGT GTA TAG AGG GGC GCG CGG GGT GTT TTT TTG TGT GTC TCG CGC GCG CGT GTG TGT GTT TTC TCG CGT GTG TGA GAA AAA AAA AAC ACT CTC TCC CCA CAC ACG CGC GCT CTA TAA AAC ACG CGT GTT TTG TGA GAG AGC GCG CGT GTG TGC GCG CGG GGG GGC GCG CGA GAT ATA TAC ACG CGG GGG GGC GCA CAG AGA GAC ACT CTG TGA GAG AGT GTT TTC TCG CGG GGT GTA TAG AGG GGG GGG GGA GAG AGA GAC ACT CTG TGG GGA GAA AAT ATT TTC TCC CCT CTG TGT GTG TGT GTA TAG AGC GCG CGG GGT GTG TGA GAA AAA AAT ATG TGC GCG CGC GCA CAG AGA GAT ATA TAT ATC TCA CAG AGG GGA GAG AGG GGA GAA AAC ACA CAC ACC CCG CGG GGT GTT TTT TTC TCG CGA GAA AAG AGG GGC GCG CGG GGC GCT CTC TCT CTG TGG GGG GGC GCC CCG CGA GAT ATA TAC ACT CTG TGA GAC ACG CGC GCT CTG TGA GAG AGG GGA GAG AGC GCG CGA GAA AAA AAG AGC GCG CGT GTG TGG GGG GGG GGA GAG AGC GCG CGA GAA AAC ACA CAG AGG GGA GAT ATT TTA TAG AGA GAT ATA TAC ACC CCC CCT CTG TGG GGT GTA TAG AGT GTC TCC CCA CAC ACG CGC GCT CTG TGT GTA TAA AAA AAC ACG CGT GTT TTG TGG GGG GGC GCG CGC GCT CTA TAG AGG GGT GTG TGT GTG TGG GGG GGC GCG CGA GAC ACA CAT ATC TCC CCA CAC ACG CGT GTT TTG TGT GTC TCC CCG CGT GTG TGC GCC CCG CGT GTA TAG AGC GCT CTA TAA AAC ACG CGC GCA CAT ATT TTA TAA AAG AGC GCG CGC GCC CCC CCC CCG CGC GCC CCT CTG TGG GGG GGG GGA GAG AGT GTA TAC ACG CGG GGC GCC CCG CGC GCA CAA AAG AGG GGC GCT CTA TAA AAA AAA AAC ACT CTC TCA CAA AAA AAG AGG GGA GAA AAT ATT TTG TGA GAC ACG CGG GGG GGG GGG GGC GCC CCC CCG CGC GCA CAC ACA CAA AAG AGC GCG CGG GGC GCG CGG GGA GAG AGC GCA CAT ATG TGT GTG TGG GGA GAT ATT TTA TAA AAT ATT TTC TCG CGA GAT ATG TGA GAA AAC ACG CGC GCG CGA GAA AAG AGA GAA AAC ACC CCT CTT TTA TAC ACC CCT CTG TGG GGG GGG GGC GCT CTG TGA GAC ACG CGT GTG TGC GCG CGC GCY CYA YAG AGA GAC ACR CRT RTC TCC CCC CCT CTA TAG AGA GAG AGA GAT ATG TGG GGG GGG GGC GCT CTT TTC TCC CCC CCT CTT TTG TGT GTG TGG GGT GTT TTG TGG GGT GTG TGT GTA TAC ACA CAG AGG GGT GTG TGG GGT GTG TGC GCA CAT ATT TTG TGC GCT CTG TGT GTC TCG CGT GTC TCA CAG AGC GCT CTC TCG CGT GTG TGT GTC TCG CGT GTG TGA GAG AGA GAT ATG TGT GTT TTG TGG GGG GGT GTT TTA TAA AAG AGT GTC TCC CCC CCG CGC GCA CAA AAC ACG CGA GAG AGC GCG CGC GCA CAA AAC ACC CCC CCT CTA TAT ATC TCC CCT CTA TAC ACG CGT GTT TTG TGC GCC CCA CAG AGC GCG CGC GCG CGT GTT TTA TAT ATG TGG GGC GCG CGG GGG GGG GGA GAC ACT CTC TCG CGT GTG TGG GGG GGA GAG AGA GAC ACT CTG TGC GCC CCG CGG GGG GGG GGT GTA TAA AAC ACT CTC TCG CGG GGA GAG AGG GGA GAA AAG AGG GGT GTG TGG GGG GGG GGA GAT ATG TGA GAC ACG CGT GTC TCA CAA AAG AGT GTC TCA CAT ATC TCA CAT ATG TGC GCC CCC CCC CCT CTT TTA TAT ATG TGT GTC TCC CCA CAG AGG GGG GGC GCT CTT TTC TCA CAC ACA CAC ACA CAT ATG TGC GCT CTA TAC ACA CAA AAT ATG TGG GGC GCT CTG TGG GGT GTA TAC ACA CAG AGA GAG AGG GGG GGC GCT CTG TGC GCG CGA GAT ATA TAC ACC CCG CGC GCG CGA GAG AGG GGT GTG TGA GAG AGC GCG CGA GAA AAT ATC TCC CCC CCT CTA TAA AAA AAG AGC GCC CCG CGG GGT GTC TCT CTA TAG AGT GTT TTC TCG CGG GGA GAT ATC TCG CGC GCA CAG AGT GTC TCT CTG TGC GCA CAA AAC ACT CTG TGA GAC ACT CTG TGC GCG CGT GTG TGA GAA AAG AGT GTC TCG CGG GGA GAG AGT GTC TCG CGC GCT CTA TAG AGT GTA TAA AAT ATC TCG CGC GCA CAG AGA GAT ATC TCA CAG AGC GCA CAA AAC ACG CGC GCT CTG TGC GCG CGG GGT GTA TAA AAT ATA TAC ACG CGT GTT TTC TCC CCC CCG CGG GGG GGC GCC CCT CTT TTG TGT GTA TAC ACA CAC ACA CAC ACC CCG CGG GGC GCG CGT GTT TTA TAC ACG CGG GGC GCA CAT ATG TGA GAA AAA AAG AGC GCG CGG GGT GTA TAA AAC ACA CAC ACC CCC CCG CGA GAA AAC ACC CCC CCA CAT ATG TGG GGC GCC CCC CCA CAA AAC ACC CCC CCG CGT GTA TAA AAG AGG GGG GGG GGG GGG GGA GAG AGT GTG TGT GTC TCG CGA GAA AAG AGG GGT GTG TGG GGG GGA GAC ACT CTG TGC GCG CGA GAT']"
      ]
     },
     "execution_count": 5,
     "metadata": {},
     "output_type": "execute_result"
    }
   ],
   "source": [
    "def tokenize_kmers(k, df):\n",
    "    sequences = df['sequence']\n",
    "    \n",
    "    kmers = [\" \".join([seq[i:i+k] for i in range(len(seq) - k + 1)]) for seq in sequences]\n",
    "    \n",
    "    return kmers\n",
    "\n",
    "tokenize_kmers(3, df)[:1]"
   ]
  },
  {
   "cell_type": "code",
   "execution_count": null,
   "id": "ca104812",
   "metadata": {
    "papermill": {
     "duration": 0.002237,
     "end_time": "2025-09-27T21:37:35.772367",
     "exception": false,
     "start_time": "2025-09-27T21:37:35.770130",
     "status": "completed"
    },
    "tags": []
   },
   "outputs": [],
   "source": []
  }
 ],
 "metadata": {
  "kaggle": {
   "accelerator": "none",
   "dataSources": [
    {
     "datasetId": 8359364,
     "sourceId": 13190898,
     "sourceType": "datasetVersion"
    }
   ],
   "dockerImageVersionId": 31089,
   "isGpuEnabled": false,
   "isInternetEnabled": false,
   "language": "python",
   "sourceType": "notebook"
  },
  "kernelspec": {
   "display_name": "Python 3",
   "language": "python",
   "name": "python3"
  },
  "language_info": {
   "codemirror_mode": {
    "name": "ipython",
    "version": 3
   },
   "file_extension": ".py",
   "mimetype": "text/x-python",
   "name": "python",
   "nbconvert_exporter": "python",
   "pygments_lexer": "ipython3",
   "version": "3.11.13"
  },
  "papermill": {
   "default_parameters": {},
   "duration": 24.957164,
   "end_time": "2025-09-27T21:37:38.319200",
   "environment_variables": {},
   "exception": null,
   "input_path": "__notebook__.ipynb",
   "output_path": "__notebook__.ipynb",
   "parameters": {},
   "start_time": "2025-09-27T21:37:13.362036",
   "version": "2.6.0"
  }
 },
 "nbformat": 4,
 "nbformat_minor": 5
}
