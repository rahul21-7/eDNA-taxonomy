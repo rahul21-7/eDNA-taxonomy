{
 "cells": [
  {
   "cell_type": "code",
   "execution_count": 1,
   "id": "82b83dad",
   "metadata": {
    "_cell_guid": "b1076dfc-b9ad-4769-8c92-a6c4dae69d19",
    "_uuid": "8f2839f25d086af736a60e9eeb907d3b93b6e0e5",
    "execution": {
     "iopub.execute_input": "2025-09-27T20:35:56.279441Z",
     "iopub.status.busy": "2025-09-27T20:35:56.279019Z",
     "iopub.status.idle": "2025-09-27T20:36:04.021227Z",
     "shell.execute_reply": "2025-09-27T20:36:04.020087Z"
    },
    "papermill": {
     "duration": 7.748128,
     "end_time": "2025-09-27T20:36:04.023118",
     "exception": false,
     "start_time": "2025-09-27T20:35:56.274990",
     "status": "completed"
    },
    "tags": []
   },
   "outputs": [
    {
     "name": "stdout",
     "output_type": "stream",
     "text": [
      "/kaggle/input/taxonomy-dataset/16S_sequences.fasta\n"
     ]
    }
   ],
   "source": [
    "# This Python 3 environment comes with many helpful analytics libraries installed\n",
    "# It is defined by the kaggle/python Docker image: https://github.com/kaggle/docker-python\n",
    "# For example, here's several helpful packages to load\n",
    "\n",
    "import numpy as np # linear algebra\n",
    "import pandas as pd # data processing, CSV file I/O (e.g. pd.read_csv)\n",
    "import matplotlib.pyplot as plt\n",
    "import torch\n",
    "\n",
    "# Input data files are available in the read-only \"../input/\" directory\n",
    "# For example, running this (by clicking run or pressing Shift+Enter) will list all files under the input directory\n",
    "\n",
    "import os\n",
    "for dirname, _, filenames in os.walk('/kaggle/input'):\n",
    "    for filename in filenames:\n",
    "        print(os.path.join(dirname, filename))\n",
    "\n",
    "# You can write up to 20GB to the current directory (/kaggle/working/) that gets preserved as output when you create a version using \"Save & Run All\" \n",
    "# You can also write temporary files to /kaggle/temp/, but they won't be saved outside of the current session"
   ]
  },
  {
   "cell_type": "code",
   "execution_count": 2,
   "id": "dec51347",
   "metadata": {
    "execution": {
     "iopub.execute_input": "2025-09-27T20:36:04.028663Z",
     "iopub.status.busy": "2025-09-27T20:36:04.028147Z",
     "iopub.status.idle": "2025-09-27T20:36:05.118977Z",
     "shell.execute_reply": "2025-09-27T20:36:05.117755Z"
    },
    "papermill": {
     "duration": 1.095753,
     "end_time": "2025-09-27T20:36:05.121271",
     "exception": false,
     "start_time": "2025-09-27T20:36:04.025518",
     "status": "completed"
    },
    "tags": []
   },
   "outputs": [],
   "source": [
    "fasta_path = \"/kaggle/input/taxonomy-dataset/16S_sequences.fasta\"\n",
    "\n",
    "sequences = []\n",
    "seq_records = set()\n",
    "\n",
    "\n",
    "def read_from_file(fasta_path, min_length, remove_duplicates):\n",
    "    seq = \"\"\n",
    "    header = \"\"\n",
    "    with open(fasta_path, \"r\") as f:\n",
    "        for line in f:\n",
    "            if line.startswith(\">\"):\n",
    "                header = line[1:].strip()\n",
    "                if seq:\n",
    "                    seq = seq.upper()\n",
    "                    seq = seq.replace(\"N\", \"\")\n",
    "                    if len(seq) >= min_length:\n",
    "                        if remove_duplicates:\n",
    "                            if seq not in seq_records:\n",
    "                                seq_records.add(seq)\n",
    "                                species_name = \" \".join(header.split()[1:3])\n",
    "                                sequences.append((species_name, seq))\n",
    "                            else:\n",
    "                                sequences.append((species_name, seq))\n",
    "                        seq = \"\"\n",
    "                    header = \"\"\n",
    "            else:\n",
    "                seq += line.strip()\n",
    "    return sequences\n",
    "\n",
    "data = read_from_file(fasta_path, 100, True)"
   ]
  },
  {
   "cell_type": "code",
   "execution_count": 3,
   "id": "db8d2675",
   "metadata": {
    "execution": {
     "iopub.execute_input": "2025-09-27T20:36:05.127081Z",
     "iopub.status.busy": "2025-09-27T20:36:05.126684Z",
     "iopub.status.idle": "2025-09-27T20:36:05.171421Z",
     "shell.execute_reply": "2025-09-27T20:36:05.170149Z"
    },
    "papermill": {
     "duration": 0.049758,
     "end_time": "2025-09-27T20:36:05.173228",
     "exception": false,
     "start_time": "2025-09-27T20:36:05.123470",
     "status": "completed"
    },
    "tags": []
   },
   "outputs": [
    {
     "data": {
      "text/html": [
       "<div>\n",
       "<style scoped>\n",
       "    .dataframe tbody tr th:only-of-type {\n",
       "        vertical-align: middle;\n",
       "    }\n",
       "\n",
       "    .dataframe tbody tr th {\n",
       "        vertical-align: top;\n",
       "    }\n",
       "\n",
       "    .dataframe thead th {\n",
       "        text-align: right;\n",
       "    }\n",
       "</style>\n",
       "<table border=\"1\" class=\"dataframe\">\n",
       "  <thead>\n",
       "    <tr style=\"text-align: right;\">\n",
       "      <th></th>\n",
       "      <th>Label</th>\n",
       "      <th>Sequence</th>\n",
       "    </tr>\n",
       "  </thead>\n",
       "  <tbody>\n",
       "    <tr>\n",
       "      <th>0</th>\n",
       "      <td>Actinomyces bovis</td>\n",
       "      <td>GGTCTATACCGGATATAACAACTCATGGCATGGTTGGTAGTGGAAA...</td>\n",
       "    </tr>\n",
       "    <tr>\n",
       "      <th>1</th>\n",
       "      <td>Archaeoglobus fulgidus</td>\n",
       "      <td>GGGTGAGTAACACGTGAGTAACCTGCCCCACTTCTGGATAACCGCT...</td>\n",
       "    </tr>\n",
       "    <tr>\n",
       "      <th>2</th>\n",
       "      <td>Actinokineospora fastidiosa</td>\n",
       "      <td>ATTCTGGTTGATCCTGCCAGAGGCCGCTGCTATCCGGCTGGGACTA...</td>\n",
       "    </tr>\n",
       "    <tr>\n",
       "      <th>3</th>\n",
       "      <td>Atopobium minutum</td>\n",
       "      <td>TACTTTGGGATAAGCCTGGGAAACTGGGTCTATACCGGATATGACA...</td>\n",
       "    </tr>\n",
       "    <tr>\n",
       "      <th>4</th>\n",
       "      <td>Amycolatopsis methanolica</td>\n",
       "      <td>TTGAACGGAGAGTTCGACCTGGCTCAGGATGAACGCTGGCGGCGCG...</td>\n",
       "    </tr>\n",
       "  </tbody>\n",
       "</table>\n",
       "</div>"
      ],
      "text/plain": [
       "                         Label  \\\n",
       "0            Actinomyces bovis   \n",
       "1       Archaeoglobus fulgidus   \n",
       "2  Actinokineospora fastidiosa   \n",
       "3            Atopobium minutum   \n",
       "4    Amycolatopsis methanolica   \n",
       "\n",
       "                                            Sequence  \n",
       "0  GGTCTATACCGGATATAACAACTCATGGCATGGTTGGTAGTGGAAA...  \n",
       "1  GGGTGAGTAACACGTGAGTAACCTGCCCCACTTCTGGATAACCGCT...  \n",
       "2  ATTCTGGTTGATCCTGCCAGAGGCCGCTGCTATCCGGCTGGGACTA...  \n",
       "3  TACTTTGGGATAAGCCTGGGAAACTGGGTCTATACCGGATATGACA...  \n",
       "4  TTGAACGGAGAGTTCGACCTGGCTCAGGATGAACGCTGGCGGCGCG...  "
      ]
     },
     "execution_count": 3,
     "metadata": {},
     "output_type": "execute_result"
    }
   ],
   "source": [
    "df = pd.DataFrame(data, columns=['Label', 'Sequence'])\n",
    "df.head()"
   ]
  }
 ],
 "metadata": {
  "kaggle": {
   "accelerator": "none",
   "dataSources": [
    {
     "datasetId": 8359364,
     "sourceId": 13190898,
     "sourceType": "datasetVersion"
    }
   ],
   "dockerImageVersionId": 31089,
   "isGpuEnabled": false,
   "isInternetEnabled": false,
   "language": "python",
   "sourceType": "notebook"
  },
  "kernelspec": {
   "display_name": "Python 3",
   "language": "python",
   "name": "python3"
  },
  "language_info": {
   "codemirror_mode": {
    "name": "ipython",
    "version": 3
   },
   "file_extension": ".py",
   "mimetype": "text/x-python",
   "name": "python",
   "nbconvert_exporter": "python",
   "pygments_lexer": "ipython3",
   "version": "3.11.13"
  },
  "papermill": {
   "default_parameters": {},
   "duration": 16.822399,
   "end_time": "2025-09-27T20:36:07.467328",
   "environment_variables": {},
   "exception": null,
   "input_path": "__notebook__.ipynb",
   "output_path": "__notebook__.ipynb",
   "parameters": {},
   "start_time": "2025-09-27T20:35:50.644929",
   "version": "2.6.0"
  }
 },
 "nbformat": 4,
 "nbformat_minor": 5
}
