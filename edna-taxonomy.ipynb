{
 "cells": [
  {
   "cell_type": "code",
   "execution_count": 1,
   "id": "0577d708",
   "metadata": {
    "_cell_guid": "b1076dfc-b9ad-4769-8c92-a6c4dae69d19",
    "_uuid": "8f2839f25d086af736a60e9eeb907d3b93b6e0e5",
    "execution": {
     "iopub.execute_input": "2025-09-27T21:25:48.483879Z",
     "iopub.status.busy": "2025-09-27T21:25:48.483450Z",
     "iopub.status.idle": "2025-09-27T21:25:57.626825Z",
     "shell.execute_reply": "2025-09-27T21:25:57.624938Z"
    },
    "papermill": {
     "duration": 9.149681,
     "end_time": "2025-09-27T21:25:57.628875",
     "exception": false,
     "start_time": "2025-09-27T21:25:48.479194",
     "status": "completed"
    },
    "tags": []
   },
   "outputs": [
    {
     "name": "stdout",
     "output_type": "stream",
     "text": [
      "/kaggle/input/taxonomy-dataset/16S_sequences.fasta\n"
     ]
    }
   ],
   "source": [
    "# This Python 3 environment comes with many helpful analytics libraries installed\n",
    "# It is defined by the kaggle/python Docker image: https://github.com/kaggle/docker-python\n",
    "# For example, here's several helpful packages to load\n",
    "\n",
    "import numpy as np # linear algebra\n",
    "import pandas as pd # data processing, CSV file I/O (e.g. pd.read_csv)\n",
    "import matplotlib.pyplot as plt\n",
    "import torch\n",
    "\n",
    "# Input data files are available in the read-only \"../input/\" directory\n",
    "# For example, running this (by clicking run or pressing Shift+Enter) will list all files under the input directory\n",
    "\n",
    "import os\n",
    "for dirname, _, filenames in os.walk('/kaggle/input'):\n",
    "    for filename in filenames:\n",
    "        print(os.path.join(dirname, filename))\n",
    "\n",
    "# You can write up to 20GB to the current directory (/kaggle/working/) that gets preserved as output when you create a version using \"Save & Run All\" \n",
    "# You can also write temporary files to /kaggle/temp/, but they won't be saved outside of the current session"
   ]
  },
  {
   "cell_type": "code",
   "execution_count": 2,
   "id": "69266109",
   "metadata": {
    "execution": {
     "iopub.execute_input": "2025-09-27T21:25:57.636076Z",
     "iopub.status.busy": "2025-09-27T21:25:57.635553Z",
     "iopub.status.idle": "2025-09-27T21:25:58.662566Z",
     "shell.execute_reply": "2025-09-27T21:25:58.661466Z"
    },
    "papermill": {
     "duration": 1.033388,
     "end_time": "2025-09-27T21:25:58.665158",
     "exception": false,
     "start_time": "2025-09-27T21:25:57.631770",
     "status": "completed"
    },
    "tags": []
   },
   "outputs": [],
   "source": [
    "fasta_path = \"/kaggle/input/taxonomy-dataset/16S_sequences.fasta\"\n",
    "\n",
    "sequences = []\n",
    "seq_records = set()\n",
    "\n",
    "\n",
    "def read_from_file(fasta_path, min_length, remove_duplicates):\n",
    "    seq = \"\"\n",
    "    header = \"\"\n",
    "    with open(fasta_path, \"r\") as f:\n",
    "        for line in f:\n",
    "            if line.startswith(\">\"):\n",
    "                header = line[1:].strip()\n",
    "                if seq:\n",
    "                    seq = seq.upper()\n",
    "                    seq = seq.replace(\"N\", \"\")\n",
    "                    if len(seq) >= min_length:\n",
    "                        if remove_duplicates:\n",
    "                            if seq not in seq_records:\n",
    "                                seq_records.add(seq)\n",
    "                                specie_id = header[3:].split()[0]\n",
    "                                specie_id = specie_id[:-2]\n",
    "                                species_name = \" \".join(header.split()[1:3])\n",
    "                                sequences.append((specie_id, species_name, seq))\n",
    "                            else:\n",
    "                                sequences.append((specie_id, species_name, seq))\n",
    "                        seq = \"\"\n",
    "                    header = \"\"\n",
    "            else:\n",
    "                seq += line.strip()\n",
    "    return sequences\n",
    "\n",
    "data = read_from_file(fasta_path, 100, True)"
   ]
  },
  {
   "cell_type": "code",
   "execution_count": 3,
   "id": "255a5487",
   "metadata": {
    "execution": {
     "iopub.execute_input": "2025-09-27T21:25:58.670730Z",
     "iopub.status.busy": "2025-09-27T21:25:58.670416Z",
     "iopub.status.idle": "2025-09-27T21:25:58.711865Z",
     "shell.execute_reply": "2025-09-27T21:25:58.710860Z"
    },
    "papermill": {
     "duration": 0.046941,
     "end_time": "2025-09-27T21:25:58.714387",
     "exception": false,
     "start_time": "2025-09-27T21:25:58.667446",
     "status": "completed"
    },
    "tags": []
   },
   "outputs": [
    {
     "data": {
      "text/html": [
       "<div>\n",
       "<style scoped>\n",
       "    .dataframe tbody tr th:only-of-type {\n",
       "        vertical-align: middle;\n",
       "    }\n",
       "\n",
       "    .dataframe tbody tr th {\n",
       "        vertical-align: top;\n",
       "    }\n",
       "\n",
       "    .dataframe thead th {\n",
       "        text-align: right;\n",
       "    }\n",
       "</style>\n",
       "<table border=\"1\" class=\"dataframe\">\n",
       "  <thead>\n",
       "    <tr style=\"text-align: right;\">\n",
       "      <th></th>\n",
       "      <th>label_id</th>\n",
       "      <th>label</th>\n",
       "      <th>sequence</th>\n",
       "    </tr>\n",
       "  </thead>\n",
       "  <tbody>\n",
       "    <tr>\n",
       "      <th>0</th>\n",
       "      <td>118899</td>\n",
       "      <td>Actinomyces bovis</td>\n",
       "      <td>GGTCTATACCGGATATAACAACTCATGGCATGGTTGGTAGTGGAAA...</td>\n",
       "    </tr>\n",
       "    <tr>\n",
       "      <th>1</th>\n",
       "      <td>074334</td>\n",
       "      <td>Archaeoglobus fulgidus</td>\n",
       "      <td>GGGTGAGTAACACGTGAGTAACCTGCCCCACTTCTGGATAACCGCT...</td>\n",
       "    </tr>\n",
       "    <tr>\n",
       "      <th>2</th>\n",
       "      <td>118890</td>\n",
       "      <td>Actinokineospora fastidiosa</td>\n",
       "      <td>ATTCTGGTTGATCCTGCCAGAGGCCGCTGCTATCCGGCTGGGACTA...</td>\n",
       "    </tr>\n",
       "    <tr>\n",
       "      <th>3</th>\n",
       "      <td>044838</td>\n",
       "      <td>Atopobium minutum</td>\n",
       "      <td>TACTTTGGGATAAGCCTGGGAAACTGGGTCTATACCGGATATGACA...</td>\n",
       "    </tr>\n",
       "    <tr>\n",
       "      <th>4</th>\n",
       "      <td>118908</td>\n",
       "      <td>Amycolatopsis methanolica</td>\n",
       "      <td>TTGAACGGAGAGTTCGACCTGGCTCAGGATGAACGCTGGCGGCGCG...</td>\n",
       "    </tr>\n",
       "  </tbody>\n",
       "</table>\n",
       "</div>"
      ],
      "text/plain": [
       "  label_id                        label  \\\n",
       "0   118899            Actinomyces bovis   \n",
       "1   074334       Archaeoglobus fulgidus   \n",
       "2   118890  Actinokineospora fastidiosa   \n",
       "3   044838            Atopobium minutum   \n",
       "4   118908    Amycolatopsis methanolica   \n",
       "\n",
       "                                            sequence  \n",
       "0  GGTCTATACCGGATATAACAACTCATGGCATGGTTGGTAGTGGAAA...  \n",
       "1  GGGTGAGTAACACGTGAGTAACCTGCCCCACTTCTGGATAACCGCT...  \n",
       "2  ATTCTGGTTGATCCTGCCAGAGGCCGCTGCTATCCGGCTGGGACTA...  \n",
       "3  TACTTTGGGATAAGCCTGGGAAACTGGGTCTATACCGGATATGACA...  \n",
       "4  TTGAACGGAGAGTTCGACCTGGCTCAGGATGAACGCTGGCGGCGCG...  "
      ]
     },
     "execution_count": 3,
     "metadata": {},
     "output_type": "execute_result"
    }
   ],
   "source": [
    "df = pd.DataFrame(data, columns=['label_id', 'label', 'sequence'])\n",
    "df.head()"
   ]
  },
  {
   "cell_type": "code",
   "execution_count": 4,
   "id": "4b7fb0a5",
   "metadata": {
    "execution": {
     "iopub.execute_input": "2025-09-27T21:25:58.721686Z",
     "iopub.status.busy": "2025-09-27T21:25:58.721369Z",
     "iopub.status.idle": "2025-09-27T21:26:01.025141Z",
     "shell.execute_reply": "2025-09-27T21:26:01.023642Z"
    },
    "papermill": {
     "duration": 2.310262,
     "end_time": "2025-09-27T21:26:01.027810",
     "exception": false,
     "start_time": "2025-09-27T21:25:58.717548",
     "status": "completed"
    },
    "tags": []
   },
   "outputs": [],
   "source": [
    "from sklearn.model_selection import train_test_split\n",
    "\n",
    "X = df[\"sequence\"]\n",
    "y = df[\"label\"]\n",
    "\n",
    "X_train, X_test, y_train, y_test = train_test_split(\n",
    "    X,\n",
    "    y,\n",
    ")"
   ]
  },
  {
   "cell_type": "code",
   "execution_count": 5,
   "id": "a3c40a05",
   "metadata": {
    "execution": {
     "iopub.execute_input": "2025-09-27T21:26:01.034956Z",
     "iopub.status.busy": "2025-09-27T21:26:01.034447Z",
     "iopub.status.idle": "2025-09-27T21:26:01.041681Z",
     "shell.execute_reply": "2025-09-27T21:26:01.040435Z"
    },
    "papermill": {
     "duration": 0.013264,
     "end_time": "2025-09-27T21:26:01.043542",
     "exception": false,
     "start_time": "2025-09-27T21:26:01.030278",
     "status": "completed"
    },
    "tags": []
   },
   "outputs": [],
   "source": [
    "def tokenize_kmers(k, df):\n",
    "    sequences = df['sequence']\n",
    "    \n",
    "    kmers = [\" \".join([seq[i:i+k] for i in range(len(seq) - k + 1)]) for seq in sequences]\n",
    "    \n",
    "    return kmers\n",
    "\n",
    "# tokenize_kmers(3, df)[:1]"
   ]
  }
 ],
 "metadata": {
  "kaggle": {
   "accelerator": "none",
   "dataSources": [
    {
     "datasetId": 8359364,
     "sourceId": 13190898,
     "sourceType": "datasetVersion"
    }
   ],
   "dockerImageVersionId": 31089,
   "isGpuEnabled": false,
   "isInternetEnabled": false,
   "language": "python",
   "sourceType": "notebook"
  },
  "kernelspec": {
   "display_name": "Python 3",
   "language": "python",
   "name": "python3"
  },
  "language_info": {
   "codemirror_mode": {
    "name": "ipython",
    "version": 3
   },
   "file_extension": ".py",
   "mimetype": "text/x-python",
   "name": "python",
   "nbconvert_exporter": "python",
   "pygments_lexer": "ipython3",
   "version": "3.11.13"
  },
  "papermill": {
   "default_parameters": {},
   "duration": 22.310824,
   "end_time": "2025-09-27T21:26:04.012208",
   "environment_variables": {},
   "exception": null,
   "input_path": "__notebook__.ipynb",
   "output_path": "__notebook__.ipynb",
   "parameters": {},
   "start_time": "2025-09-27T21:25:41.701384",
   "version": "2.6.0"
  }
 },
 "nbformat": 4,
 "nbformat_minor": 5
}
