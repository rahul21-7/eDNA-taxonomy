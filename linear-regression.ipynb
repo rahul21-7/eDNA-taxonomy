{
 "cells": [
  {
   "cell_type": "code",
   "execution_count": 1,
   "id": "dbc2ff03",
   "metadata": {
    "_cell_guid": "b1076dfc-b9ad-4769-8c92-a6c4dae69d19",
    "_uuid": "8f2839f25d086af736a60e9eeb907d3b93b6e0e5",
    "execution": {
     "iopub.execute_input": "2025-10-03T13:08:26.619328Z",
     "iopub.status.busy": "2025-10-03T13:08:26.618312Z",
     "iopub.status.idle": "2025-10-03T13:08:31.724071Z",
     "shell.execute_reply": "2025-10-03T13:08:31.723109Z"
    },
    "papermill": {
     "duration": 5.11369,
     "end_time": "2025-10-03T13:08:31.726059",
     "exception": false,
     "start_time": "2025-10-03T13:08:26.612369",
     "status": "completed"
    },
    "tags": []
   },
   "outputs": [],
   "source": [
    "import pandas as pd\n",
    "import numpy as np\n",
    "import matplotlib.pyplot as plt\n",
    "import seaborn as sns"
   ]
  },
  {
   "cell_type": "code",
   "execution_count": 2,
   "id": "6499b793",
   "metadata": {
    "execution": {
     "iopub.execute_input": "2025-10-03T13:08:31.735904Z",
     "iopub.status.busy": "2025-10-03T13:08:31.735402Z",
     "iopub.status.idle": "2025-10-03T13:08:31.781385Z",
     "shell.execute_reply": "2025-10-03T13:08:31.780352Z"
    },
    "papermill": {
     "duration": 0.052813,
     "end_time": "2025-10-03T13:08:31.783114",
     "exception": false,
     "start_time": "2025-10-03T13:08:31.730301",
     "status": "completed"
    },
    "tags": []
   },
   "outputs": [
    {
     "data": {
      "text/html": [
       "<div>\n",
       "<style scoped>\n",
       "    .dataframe tbody tr th:only-of-type {\n",
       "        vertical-align: middle;\n",
       "    }\n",
       "\n",
       "    .dataframe tbody tr th {\n",
       "        vertical-align: top;\n",
       "    }\n",
       "\n",
       "    .dataframe thead th {\n",
       "        text-align: right;\n",
       "    }\n",
       "</style>\n",
       "<table border=\"1\" class=\"dataframe\">\n",
       "  <thead>\n",
       "    <tr style=\"text-align: right;\">\n",
       "      <th></th>\n",
       "      <th>Weight</th>\n",
       "      <th>Height</th>\n",
       "    </tr>\n",
       "  </thead>\n",
       "  <tbody>\n",
       "    <tr>\n",
       "      <th>0</th>\n",
       "      <td>63</td>\n",
       "      <td>174</td>\n",
       "    </tr>\n",
       "    <tr>\n",
       "      <th>1</th>\n",
       "      <td>55</td>\n",
       "      <td>168</td>\n",
       "    </tr>\n",
       "    <tr>\n",
       "      <th>2</th>\n",
       "      <td>58</td>\n",
       "      <td>176</td>\n",
       "    </tr>\n",
       "    <tr>\n",
       "      <th>3</th>\n",
       "      <td>63</td>\n",
       "      <td>185</td>\n",
       "    </tr>\n",
       "    <tr>\n",
       "      <th>4</th>\n",
       "      <td>53</td>\n",
       "      <td>167</td>\n",
       "    </tr>\n",
       "  </tbody>\n",
       "</table>\n",
       "</div>"
      ],
      "text/plain": [
       "   Weight  Height\n",
       "0      63     174\n",
       "1      55     168\n",
       "2      58     176\n",
       "3      63     185\n",
       "4      53     167"
      ]
     },
     "execution_count": 2,
     "metadata": {},
     "output_type": "execute_result"
    }
   ],
   "source": [
    "df = pd.read_csv('/kaggle/input/weight-vs-height/wtvsht.csv')\n",
    "df.head()"
   ]
  },
  {
   "cell_type": "code",
   "execution_count": 3,
   "id": "3c3ce022",
   "metadata": {
    "execution": {
     "iopub.execute_input": "2025-10-03T13:08:31.792558Z",
     "iopub.status.busy": "2025-10-03T13:08:31.792188Z",
     "iopub.status.idle": "2025-10-03T13:08:38.067670Z",
     "shell.execute_reply": "2025-10-03T13:08:38.066311Z"
    },
    "papermill": {
     "duration": 6.282615,
     "end_time": "2025-10-03T13:08:38.069986",
     "exception": false,
     "start_time": "2025-10-03T13:08:31.787371",
     "status": "completed"
    },
    "tags": []
   },
   "outputs": [
    {
     "name": "stdout",
     "output_type": "stream",
     "text": [
      "Requirement already satisfied: scikit-learn in /usr/local/lib/python3.11/dist-packages (1.2.2)\r\n",
      "Requirement already satisfied: numpy>=1.17.3 in /usr/local/lib/python3.11/dist-packages (from scikit-learn) (1.26.4)\r\n",
      "Requirement already satisfied: scipy>=1.3.2 in /usr/local/lib/python3.11/dist-packages (from scikit-learn) (1.15.3)\r\n",
      "Requirement already satisfied: joblib>=1.1.1 in /usr/local/lib/python3.11/dist-packages (from scikit-learn) (1.5.1)\r\n",
      "Requirement already satisfied: threadpoolctl>=2.0.0 in /usr/local/lib/python3.11/dist-packages (from scikit-learn) (3.6.0)\r\n",
      "Requirement already satisfied: mkl_fft in /usr/local/lib/python3.11/dist-packages (from numpy>=1.17.3->scikit-learn) (1.3.8)\r\n",
      "Requirement already satisfied: mkl_random in /usr/local/lib/python3.11/dist-packages (from numpy>=1.17.3->scikit-learn) (1.2.4)\r\n",
      "Requirement already satisfied: mkl_umath in /usr/local/lib/python3.11/dist-packages (from numpy>=1.17.3->scikit-learn) (0.1.1)\r\n",
      "Requirement already satisfied: mkl in /usr/local/lib/python3.11/dist-packages (from numpy>=1.17.3->scikit-learn) (2025.2.0)\r\n",
      "Requirement already satisfied: tbb4py in /usr/local/lib/python3.11/dist-packages (from numpy>=1.17.3->scikit-learn) (2022.2.0)\r\n",
      "Requirement already satisfied: mkl-service in /usr/local/lib/python3.11/dist-packages (from numpy>=1.17.3->scikit-learn) (2.4.1)\r\n",
      "Requirement already satisfied: intel-openmp<2026,>=2024 in /usr/local/lib/python3.11/dist-packages (from mkl->numpy>=1.17.3->scikit-learn) (2024.2.0)\r\n",
      "Requirement already satisfied: tbb==2022.* in /usr/local/lib/python3.11/dist-packages (from mkl->numpy>=1.17.3->scikit-learn) (2022.2.0)\r\n",
      "Requirement already satisfied: tcmlib==1.* in /usr/local/lib/python3.11/dist-packages (from tbb==2022.*->mkl->numpy>=1.17.3->scikit-learn) (1.4.0)\r\n",
      "Requirement already satisfied: intel-cmplr-lib-rt in /usr/local/lib/python3.11/dist-packages (from mkl_umath->numpy>=1.17.3->scikit-learn) (2024.2.0)\r\n",
      "Requirement already satisfied: intel-cmplr-lib-ur==2024.2.0 in /usr/local/lib/python3.11/dist-packages (from intel-openmp<2026,>=2024->mkl->numpy>=1.17.3->scikit-learn) (2024.2.0)\r\n"
     ]
    }
   ],
   "source": [
    "!pip install scikit-learn"
   ]
  },
  {
   "cell_type": "code",
   "execution_count": 4,
   "id": "9d108fe6",
   "metadata": {
    "execution": {
     "iopub.execute_input": "2025-10-03T13:08:38.080996Z",
     "iopub.status.busy": "2025-10-03T13:08:38.080648Z",
     "iopub.status.idle": "2025-10-03T13:08:38.097942Z",
     "shell.execute_reply": "2025-10-03T13:08:38.097048Z"
    },
    "papermill": {
     "duration": 0.024835,
     "end_time": "2025-10-03T13:08:38.099519",
     "exception": false,
     "start_time": "2025-10-03T13:08:38.074684",
     "status": "completed"
    },
    "tags": []
   },
   "outputs": [
    {
     "data": {
      "text/html": [
       "<div>\n",
       "<style scoped>\n",
       "    .dataframe tbody tr th:only-of-type {\n",
       "        vertical-align: middle;\n",
       "    }\n",
       "\n",
       "    .dataframe tbody tr th {\n",
       "        vertical-align: top;\n",
       "    }\n",
       "\n",
       "    .dataframe thead th {\n",
       "        text-align: right;\n",
       "    }\n",
       "</style>\n",
       "<table border=\"1\" class=\"dataframe\">\n",
       "  <thead>\n",
       "    <tr style=\"text-align: right;\">\n",
       "      <th></th>\n",
       "      <th>Weight</th>\n",
       "      <th>Height</th>\n",
       "    </tr>\n",
       "  </thead>\n",
       "  <tbody>\n",
       "    <tr>\n",
       "      <th>Weight</th>\n",
       "      <td>1.00000</td>\n",
       "      <td>0.83274</td>\n",
       "    </tr>\n",
       "    <tr>\n",
       "      <th>Height</th>\n",
       "      <td>0.83274</td>\n",
       "      <td>1.00000</td>\n",
       "    </tr>\n",
       "  </tbody>\n",
       "</table>\n",
       "</div>"
      ],
      "text/plain": [
       "         Weight   Height\n",
       "Weight  1.00000  0.83274\n",
       "Height  0.83274  1.00000"
      ]
     },
     "execution_count": 4,
     "metadata": {},
     "output_type": "execute_result"
    }
   ],
   "source": [
    "df.corr()"
   ]
  },
  {
   "cell_type": "code",
   "execution_count": 5,
   "id": "7c28e627",
   "metadata": {
    "execution": {
     "iopub.execute_input": "2025-10-03T13:08:38.110327Z",
     "iopub.status.busy": "2025-10-03T13:08:38.109985Z",
     "iopub.status.idle": "2025-10-03T13:08:38.601572Z",
     "shell.execute_reply": "2025-10-03T13:08:38.600473Z"
    },
    "papermill": {
     "duration": 0.499123,
     "end_time": "2025-10-03T13:08:38.603464",
     "exception": false,
     "start_time": "2025-10-03T13:08:38.104341",
     "status": "completed"
    },
    "tags": []
   },
   "outputs": [
    {
     "data": {
      "text/plain": [
       "<matplotlib.collections.PathCollection at 0x7b41e8c17c50>"
      ]
     },
     "execution_count": 5,
     "metadata": {},
     "output_type": "execute_result"
    },
    {
     "data": {
      "image/png": "[encoded data removed]",
      "text/plain": [
       "<Figure size 640x480 with 1 Axes>"
      ]
     },
     "metadata": {},
     "output_type": "display_data"
    }
   ],
   "source": [
    "plt.scatter(df['Weight'], df['Height'])"
   ]
  },
  {
   "cell_type": "code",
   "execution_count": 6,
   "id": "a46cdc9f",
   "metadata": {
    "execution": {
     "iopub.execute_input": "2025-10-03T13:08:38.614422Z",
     "iopub.status.busy": "2025-10-03T13:08:38.614069Z",
     "iopub.status.idle": "2025-10-03T13:08:39.667915Z",
     "shell.execute_reply": "2025-10-03T13:08:39.667006Z"
    },
    "papermill": {
     "duration": 1.061763,
     "end_time": "2025-10-03T13:08:39.670006",
     "exception": false,
     "start_time": "2025-10-03T13:08:38.608243",
     "status": "completed"
    },
    "tags": []
   },
   "outputs": [
    {
     "name": "stderr",
     "output_type": "stream",
     "text": [
      "/usr/local/lib/python3.11/dist-packages/seaborn/_oldcore.py:1119: FutureWarning: use_inf_as_na option is deprecated and will be removed in a future version. Convert inf values to NaN before operating instead.\n",
      "  with pd.option_context('mode.use_inf_as_na', True):\n",
      "/usr/local/lib/python3.11/dist-packages/seaborn/_oldcore.py:1119: FutureWarning: use_inf_as_na option is deprecated and will be removed in a future version. Convert inf values to NaN before operating instead.\n",
      "  with pd.option_context('mode.use_inf_as_na', True):\n",
      "/usr/local/lib/python3.11/dist-packages/seaborn/axisgrid.py:118: UserWarning: The figure layout has changed to tight\n",
      "  self._figure.tight_layout(*args, **kwargs)\n"
     ]
    },
    {
     "data": {
      "text/plain": [
       "<seaborn.axisgrid.PairGrid at 0x7b41e8cdd8d0>"
      ]
     },
     "execution_count": 6,
     "metadata": {},
     "output_type": "execute_result"
    },
    {
     "data": {
      "image/png": "[encoded data removed]",
      "text/plain": [
       "<Figure size 500x500 with 6 Axes>"
      ]
     },
     "metadata": {},
     "output_type": "display_data"
    }
   ],
   "source": [
    "sns.pairplot(df)"
   ]
  },
  {
   "cell_type": "code",
   "execution_count": 7,
   "id": "aad8d430",
   "metadata": {
    "execution": {
     "iopub.execute_input": "2025-10-03T13:08:39.681904Z",
     "iopub.status.busy": "2025-10-03T13:08:39.681611Z",
     "iopub.status.idle": "2025-10-03T13:08:39.691710Z",
     "shell.execute_reply": "2025-10-03T13:08:39.690525Z"
    },
    "papermill": {
     "duration": 0.017918,
     "end_time": "2025-10-03T13:08:39.693342",
     "exception": false,
     "start_time": "2025-10-03T13:08:39.675424",
     "status": "completed"
    },
    "tags": []
   },
   "outputs": [
    {
     "data": {
      "text/plain": [
       "(    Weight\n",
       " 0       63\n",
       " 1       55\n",
       " 2       58\n",
       " 3       63\n",
       " 4       53\n",
       " ..     ...\n",
       " 95      40\n",
       " 96      55\n",
       " 97      44\n",
       " 98      57\n",
       " 99      52\n",
       " \n",
       " [100 rows x 1 columns],\n",
       " 0     174\n",
       " 1     168\n",
       " 2     176\n",
       " 3     185\n",
       " 4     167\n",
       "      ... \n",
       " 95    155\n",
       " 96    172\n",
       " 97    172\n",
       " 98    170\n",
       " 99    167\n",
       " Name: Height, Length: 100, dtype: int64)"
      ]
     },
     "execution_count": 7,
     "metadata": {},
     "output_type": "execute_result"
    }
   ],
   "source": [
    "X =  df[[\"Weight\"]]\n",
    "y = df[\"Height\"]\n",
    "\n",
    "X,y"
   ]
  },
  {
   "cell_type": "code",
   "execution_count": 8,
   "id": "248a41cd",
   "metadata": {
    "execution": {
     "iopub.execute_input": "2025-10-03T13:08:39.705421Z",
     "iopub.status.busy": "2025-10-03T13:08:39.705112Z",
     "iopub.status.idle": "2025-10-03T13:08:40.133288Z",
     "shell.execute_reply": "2025-10-03T13:08:40.132258Z"
    },
    "papermill": {
     "duration": 0.436171,
     "end_time": "2025-10-03T13:08:40.135099",
     "exception": false,
     "start_time": "2025-10-03T13:08:39.698928",
     "status": "completed"
    },
    "tags": []
   },
   "outputs": [],
   "source": [
    "from sklearn.model_selection import train_test_split"
   ]
  },
  {
   "cell_type": "code",
   "execution_count": 9,
   "id": "2b74c0b4",
   "metadata": {
    "execution": {
     "iopub.execute_input": "2025-10-03T13:08:40.148350Z",
     "iopub.status.busy": "2025-10-03T13:08:40.148008Z",
     "iopub.status.idle": "2025-10-03T13:08:40.160792Z",
     "shell.execute_reply": "2025-10-03T13:08:40.159718Z"
    },
    "papermill": {
     "duration": 0.02107,
     "end_time": "2025-10-03T13:08:40.162719",
     "exception": false,
     "start_time": "2025-10-03T13:08:40.141649",
     "status": "completed"
    },
    "tags": []
   },
   "outputs": [
    {
     "data": {
      "text/plain": [
       "(    Weight\n",
       " 15      48\n",
       " 2       58\n",
       " 21      47\n",
       " 25      56\n",
       " 5       52\n",
       " ..     ...\n",
       " 7       62\n",
       " 69      48\n",
       " 74      40\n",
       " 53      59\n",
       " 67      67\n",
       " \n",
       " [75 rows x 1 columns],\n",
       "     Weight\n",
       " 17      53\n",
       " 24      56\n",
       " 64      58\n",
       " 93      49\n",
       " 97      44\n",
       " 29      45\n",
       " 3       63\n",
       " 70      55\n",
       " 82      63\n",
       " 11      49\n",
       " 66      45\n",
       " 59      59\n",
       " 48      63\n",
       " 14      45\n",
       " 83      57\n",
       " 0       63\n",
       " 40      67\n",
       " 43      49\n",
       " 79      40\n",
       " 4       53\n",
       " 10      55\n",
       " 99      52\n",
       " 65      59\n",
       " 30      45\n",
       " 47      54,\n",
       " 15    164\n",
       " 2     176\n",
       " 21    167\n",
       " 25    171\n",
       " 5     167\n",
       "      ... \n",
       " 7     177\n",
       " 69    163\n",
       " 74    145\n",
       " 53    176\n",
       " 67    180\n",
       " Name: Height, Length: 75, dtype: int64,\n",
       " 17    173\n",
       " 24    164\n",
       " 64    178\n",
       " 93    166\n",
       " 97    172\n",
       " 29    167\n",
       " 3     185\n",
       " 70    173\n",
       " 82    184\n",
       " 11    165\n",
       " 66    169\n",
       " 59    179\n",
       " 48    173\n",
       " 14    152\n",
       " 83    164\n",
       " 0     174\n",
       " 40    177\n",
       " 43    166\n",
       " 79    150\n",
       " 4     167\n",
       " 10    165\n",
       " 99    167\n",
       " 65    183\n",
       " 30    163\n",
       " 47    180\n",
       " Name: Height, dtype: int64)"
      ]
     },
     "execution_count": 9,
     "metadata": {},
     "output_type": "execute_result"
    }
   ],
   "source": [
    "X_train, X_test, y_train, y_test = train_test_split(X, y, test_size =  0.25, random_state = 67)\n",
    "X_train, X_test, y_train, y_test"
   ]
  },
  {
   "cell_type": "code",
   "execution_count": 10,
   "id": "ab0b87f9",
   "metadata": {
    "execution": {
     "iopub.execute_input": "2025-10-03T13:08:40.175047Z",
     "iopub.status.busy": "2025-10-03T13:08:40.174741Z",
     "iopub.status.idle": "2025-10-03T13:08:40.179511Z",
     "shell.execute_reply": "2025-10-03T13:08:40.178437Z"
    },
    "papermill": {
     "duration": 0.013138,
     "end_time": "2025-10-03T13:08:40.181519",
     "exception": false,
     "start_time": "2025-10-03T13:08:40.168381",
     "status": "completed"
    },
    "tags": []
   },
   "outputs": [],
   "source": [
    "#make the data into a standard normal distribution\n",
    "from sklearn.preprocessing import StandardScaler\n",
    "\n",
    "scaler = StandardScaler()"
   ]
  },
  {
   "cell_type": "code",
   "execution_count": 11,
   "id": "d98e5aa5",
   "metadata": {
    "execution": {
     "iopub.execute_input": "2025-10-03T13:08:40.194339Z",
     "iopub.status.busy": "2025-10-03T13:08:40.194040Z",
     "iopub.status.idle": "2025-10-03T13:08:40.208197Z",
     "shell.execute_reply": "2025-10-03T13:08:40.207119Z"
    },
    "papermill": {
     "duration": 0.022736,
     "end_time": "2025-10-03T13:08:40.209889",
     "exception": false,
     "start_time": "2025-10-03T13:08:40.187153",
     "status": "completed"
    },
    "tags": []
   },
   "outputs": [
    {
     "data": {
      "text/plain": [
       "(array([[-0.51411479],\n",
       "        [ 0.80638552],\n",
       "        [-0.64616482],\n",
       "        [ 0.54228546],\n",
       "        [ 0.01408534],\n",
       "        [ 0.14613537],\n",
       "        [-1.57051503],\n",
       "        [-0.51411479],\n",
       "        [ 2.12688582],\n",
       "        [-0.64616482],\n",
       "        [-1.438465  ],\n",
       "        [ 2.39098588],\n",
       "        [ 0.41023543],\n",
       "        [-1.57051503],\n",
       "        [-0.77821485],\n",
       "        [-0.11796469],\n",
       "        [ 0.14613537],\n",
       "        [-0.91026488],\n",
       "        [-1.57051503],\n",
       "        [ 0.01408534],\n",
       "        [-1.57051503],\n",
       "        [ 2.12688582],\n",
       "        [ 0.41023543],\n",
       "        [ 0.01408534],\n",
       "        [-1.57051503],\n",
       "        [ 0.54228546],\n",
       "        [ 1.86278576],\n",
       "        [ 0.2781854 ],\n",
       "        [ 0.01408534],\n",
       "        [-1.57051503],\n",
       "        [-1.30641497],\n",
       "        [-1.57051503],\n",
       "        [ 1.73073573],\n",
       "        [-0.51411479],\n",
       "        [-0.38206475],\n",
       "        [ 1.07048558],\n",
       "        [-1.17436494],\n",
       "        [ 0.67433549],\n",
       "        [ 1.07048558],\n",
       "        [-0.51411479],\n",
       "        [ 0.41023543],\n",
       "        [-0.11796469],\n",
       "        [-0.11796469],\n",
       "        [-0.38206475],\n",
       "        [ 0.01408534],\n",
       "        [-0.38206475],\n",
       "        [ 0.67433549],\n",
       "        [ 0.93843555],\n",
       "        [-1.04231491],\n",
       "        [ 0.14613537],\n",
       "        [-1.438465  ],\n",
       "        [-1.30641497],\n",
       "        [ 0.80638552],\n",
       "        [ 0.54228546],\n",
       "        [-0.77821485],\n",
       "        [-0.77821485],\n",
       "        [ 0.67433549],\n",
       "        [ 1.07048558],\n",
       "        [ 0.93843555],\n",
       "        [ 0.54228546],\n",
       "        [ 0.67433549],\n",
       "        [-0.25001472],\n",
       "        [-0.38206475],\n",
       "        [-0.25001472],\n",
       "        [ 0.14613537],\n",
       "        [ 0.01408534],\n",
       "        [-0.38206475],\n",
       "        [ 1.07048558],\n",
       "        [ 0.2781854 ],\n",
       "        [ 0.54228546],\n",
       "        [ 1.33458564],\n",
       "        [-0.51411479],\n",
       "        [-1.57051503],\n",
       "        [ 0.93843555],\n",
       "        [ 1.99483579]]),\n",
       " array([[ 0.14613537],\n",
       "        [ 0.54228546],\n",
       "        [ 0.80638552],\n",
       "        [-0.38206475],\n",
       "        [-1.04231491],\n",
       "        [-0.91026488],\n",
       "        [ 1.46663567],\n",
       "        [ 0.41023543],\n",
       "        [ 1.46663567],\n",
       "        [-0.38206475],\n",
       "        [-0.91026488],\n",
       "        [ 0.93843555],\n",
       "        [ 1.46663567],\n",
       "        [-0.91026488],\n",
       "        [ 0.67433549],\n",
       "        [ 1.46663567],\n",
       "        [ 1.99483579],\n",
       "        [-0.38206475],\n",
       "        [-1.57051503],\n",
       "        [ 0.14613537],\n",
       "        [ 0.41023543],\n",
       "        [ 0.01408534],\n",
       "        [ 0.93843555],\n",
       "        [-0.91026488],\n",
       "        [ 0.2781854 ]]))"
      ]
     },
     "execution_count": 11,
     "metadata": {},
     "output_type": "execute_result"
    }
   ],
   "source": [
    "X_train = scaler.fit_transform(X_train)\n",
    "X_test = scaler.transform(X_test)\n",
    "X_train, X_test"
   ]
  },
  {
   "cell_type": "code",
   "execution_count": 12,
   "id": "5c31d59a",
   "metadata": {
    "execution": {
     "iopub.execute_input": "2025-10-03T13:08:40.222439Z",
     "iopub.status.busy": "2025-10-03T13:08:40.221931Z",
     "iopub.status.idle": "2025-10-03T13:08:40.389098Z",
     "shell.execute_reply": "2025-10-03T13:08:40.388123Z"
    },
    "papermill": {
     "duration": 0.175529,
     "end_time": "2025-10-03T13:08:40.391062",
     "exception": false,
     "start_time": "2025-10-03T13:08:40.215533",
     "status": "completed"
    },
    "tags": []
   },
   "outputs": [],
   "source": [
    "from sklearn.linear_model import LinearRegression"
   ]
  },
  {
   "cell_type": "code",
   "execution_count": 13,
   "id": "26c0916d",
   "metadata": {
    "execution": {
     "iopub.execute_input": "2025-10-03T13:08:40.404061Z",
     "iopub.status.busy": "2025-10-03T13:08:40.403737Z",
     "iopub.status.idle": "2025-10-03T13:08:40.408568Z",
     "shell.execute_reply": "2025-10-03T13:08:40.407516Z"
    },
    "papermill": {
     "duration": 0.013073,
     "end_time": "2025-10-03T13:08:40.410139",
     "exception": false,
     "start_time": "2025-10-03T13:08:40.397066",
     "status": "completed"
    },
    "tags": []
   },
   "outputs": [],
   "source": [
    "regression = LinearRegression(n_jobs = -1)"
   ]
  },
  {
   "cell_type": "code",
   "execution_count": 14,
   "id": "08a6d936",
   "metadata": {
    "execution": {
     "iopub.execute_input": "2025-10-03T13:08:40.423244Z",
     "iopub.status.busy": "2025-10-03T13:08:40.422812Z",
     "iopub.status.idle": "2025-10-03T13:08:40.457731Z",
     "shell.execute_reply": "2025-10-03T13:08:40.456698Z"
    },
    "papermill": {
     "duration": 0.043465,
     "end_time": "2025-10-03T13:08:40.459591",
     "exception": false,
     "start_time": "2025-10-03T13:08:40.416126",
     "status": "completed"
    },
    "tags": []
   },
   "outputs": [
    {
     "data": {
      "text/html": [
       "<style>#sk-container-id-1 {color: black;background-color: white;}#sk-container-id-1 pre{padding: 0;}#sk-container-id-1 div.sk-toggleable {background-color: white;}#sk-container-id-1 label.sk-toggleable__label {cursor: pointer;display: block;width: 100%;margin-bottom: 0;padding: 0.3em;box-sizing: border-box;text-align: center;}#sk-container-id-1 label.sk-toggleable__label-arrow:before {content: \"▸\";float: left;margin-right: 0.25em;color: #696969;}#sk-container-id-1 label.sk-toggleable__label-arrow:hover:before {color: black;}#sk-container-id-1 div.sk-estimator:hover label.sk-toggleable__label-arrow:before {color: black;}#sk-container-id-1 div.sk-toggleable__content {max-height: 0;max-width: 0;overflow: hidden;text-align: left;background-color: #f0f8ff;}#sk-container-id-1 div.sk-toggleable__content pre {margin: 0.2em;color: black;border-radius: 0.25em;background-color: #f0f8ff;}#sk-container-id-1 input.sk-toggleable__control:checked~div.sk-toggleable__content {max-height: 200px;max-width: 100%;overflow: auto;}#sk-container-id-1 input.sk-toggleable__control:checked~label.sk-toggleable__label-arrow:before {content: \"▾\";}#sk-container-id-1 div.sk-estimator input.sk-toggleable__control:checked~label.sk-toggleable__label {background-color: #d4ebff;}#sk-container-id-1 div.sk-label input.sk-toggleable__control:checked~label.sk-toggleable__label {background-color: #d4ebff;}#sk-container-id-1 input.sk-hidden--visually {border: 0;clip: rect(1px 1px 1px 1px);clip: rect(1px, 1px, 1px, 1px);height: 1px;margin: -1px;overflow: hidden;padding: 0;position: absolute;width: 1px;}#sk-container-id-1 div.sk-estimator {font-family: monospace;background-color: #f0f8ff;border: 1px dotted black;border-radius: 0.25em;box-sizing: border-box;margin-bottom: 0.5em;}#sk-container-id-1 div.sk-estimator:hover {background-color: #d4ebff;}#sk-container-id-1 div.sk-parallel-item::after {content: \"\";width: 100%;border-bottom: 1px solid gray;flex-grow: 1;}#sk-container-id-1 div.sk-label:hover label.sk-toggleable__label {background-color: #d4ebff;}#sk-container-id-1 div.sk-serial::before {content: \"\";position: absolute;border-left: 1px solid gray;box-sizing: border-box;top: 0;bottom: 0;left: 50%;z-index: 0;}#sk-container-id-1 div.sk-serial {display: flex;flex-direction: column;align-items: center;background-color: white;padding-right: 0.2em;padding-left: 0.2em;position: relative;}#sk-container-id-1 div.sk-item {position: relative;z-index: 1;}#sk-container-id-1 div.sk-parallel {display: flex;align-items: stretch;justify-content: center;background-color: white;position: relative;}#sk-container-id-1 div.sk-item::before, #sk-container-id-1 div.sk-parallel-item::before {content: \"\";position: absolute;border-left: 1px solid gray;box-sizing: border-box;top: 0;bottom: 0;left: 50%;z-index: -1;}#sk-container-id-1 div.sk-parallel-item {display: flex;flex-direction: column;z-index: 1;position: relative;background-color: white;}#sk-container-id-1 div.sk-parallel-item:first-child::after {align-self: flex-end;width: 50%;}#sk-container-id-1 div.sk-parallel-item:last-child::after {align-self: flex-start;width: 50%;}#sk-container-id-1 div.sk-parallel-item:only-child::after {width: 0;}#sk-container-id-1 div.sk-dashed-wrapped {border: 1px dashed gray;margin: 0 0.4em 0.5em 0.4em;box-sizing: border-box;padding-bottom: 0.4em;background-color: white;}#sk-container-id-1 div.sk-label label {font-family: monospace;font-weight: bold;display: inline-block;line-height: 1.2em;}#sk-container-id-1 div.sk-label-container {text-align: center;}#sk-container-id-1 div.sk-container {/* jupyter's `normalize.less` sets `[hidden] { display: none; }` but bootstrap.min.css set `[hidden] { display: none !important; }` so we also need the `!important` here to be able to override the default hidden behavior on the sphinx rendered scikit-learn.org. See: https://github.com/scikit-learn/scikit-learn/issues/21755 */display: inline-block !important;position: relative;}#sk-container-id-1 div.sk-text-repr-fallback {display: none;}</style><div id=\"sk-container-id-1\" class=\"sk-top-container\"><div class=\"sk-text-repr-fallback\"><pre>LinearRegression(n_jobs=-1)</pre><b>In a Jupyter environment, please rerun this cell to show the HTML representation or trust the notebook. <br />On GitHub, the HTML representation is unable to render, please try loading this page with nbviewer.org.</b></div><div class=\"sk-container\" hidden><div class=\"sk-item\"><div class=\"sk-estimator sk-toggleable\"><input class=\"sk-toggleable__control sk-hidden--visually\" id=\"sk-estimator-id-1\" type=\"checkbox\" checked><label for=\"sk-estimator-id-1\" class=\"sk-toggleable__label sk-toggleable__label-arrow\">LinearRegression</label><div class=\"sk-toggleable__content\"><pre>LinearRegression(n_jobs=-1)</pre></div></div></div></div></div>"
      ],
      "text/plain": [
       "LinearRegression(n_jobs=-1)"
      ]
     },
     "execution_count": 14,
     "metadata": {},
     "output_type": "execute_result"
    }
   ],
   "source": [
    "regression.fit(X_train, y_train)"
   ]
  },
  {
   "cell_type": "code",
   "execution_count": 15,
   "id": "3c9a915f",
   "metadata": {
    "execution": {
     "iopub.execute_input": "2025-10-03T13:08:40.472749Z",
     "iopub.status.busy": "2025-10-03T13:08:40.472407Z",
     "iopub.status.idle": "2025-10-03T13:08:40.478853Z",
     "shell.execute_reply": "2025-10-03T13:08:40.478050Z"
    },
    "papermill": {
     "duration": 0.014682,
     "end_time": "2025-10-03T13:08:40.480314",
     "exception": false,
     "start_time": "2025-10-03T13:08:40.465632",
     "status": "completed"
    },
    "tags": []
   },
   "outputs": [
    {
     "data": {
      "text/plain": [
       "(array([7.82567215]), 167.84)"
      ]
     },
     "execution_count": 15,
     "metadata": {},
     "output_type": "execute_result"
    }
   ],
   "source": [
    "regression.coef_, regression.intercept_"
   ]
  },
  {
   "cell_type": "code",
   "execution_count": 16,
   "id": "679bcba2",
   "metadata": {
    "execution": {
     "iopub.execute_input": "2025-10-03T13:08:40.493272Z",
     "iopub.status.busy": "2025-10-03T13:08:40.492910Z",
     "iopub.status.idle": "2025-10-03T13:08:40.500536Z",
     "shell.execute_reply": "2025-10-03T13:08:40.499362Z"
    },
    "papermill": {
     "duration": 0.015923,
     "end_time": "2025-10-03T13:08:40.502122",
     "exception": false,
     "start_time": "2025-10-03T13:08:40.486199",
     "status": "completed"
    },
    "tags": []
   },
   "outputs": [
    {
     "data": {
      "text/plain": [
       "(array([168.98360747, 172.08374821, 174.1505087 , 164.85008649,\n",
       "        159.68318526, 160.71656551, 179.31740993, 171.05036796,\n",
       "        179.31740993, 164.85008649, 160.71656551, 175.18388895,\n",
       "        179.31740993, 160.71656551, 173.11712846, 179.31740993,\n",
       "        183.45093091, 164.85008649, 155.54966428, 168.98360747,\n",
       "        171.05036796, 167.95022723, 175.18388895, 160.71656551,\n",
       "        170.01698772]),\n",
       " 17    173\n",
       " 24    164\n",
       " 64    178\n",
       " 93    166\n",
       " 97    172\n",
       " 29    167\n",
       " 3     185\n",
       " 70    173\n",
       " 82    184\n",
       " 11    165\n",
       " 66    169\n",
       " 59    179\n",
       " 48    173\n",
       " 14    152\n",
       " 83    164\n",
       " 0     174\n",
       " 40    177\n",
       " 43    166\n",
       " 79    150\n",
       " 4     167\n",
       " 10    165\n",
       " 99    167\n",
       " 65    183\n",
       " 30    163\n",
       " 47    180\n",
       " Name: Height, dtype: int64)"
      ]
     },
     "execution_count": 16,
     "metadata": {},
     "output_type": "execute_result"
    }
   ],
   "source": [
    "y_pred = regression.predict(X_test)\n",
    "y_pred, y_test"
   ]
  },
  {
   "cell_type": "code",
   "execution_count": 17,
   "id": "7b237bd0",
   "metadata": {
    "execution": {
     "iopub.execute_input": "2025-10-03T13:08:40.515415Z",
     "iopub.status.busy": "2025-10-03T13:08:40.515071Z",
     "iopub.status.idle": "2025-10-03T13:08:40.708803Z",
     "shell.execute_reply": "2025-10-03T13:08:40.707667Z"
    },
    "papermill": {
     "duration": 0.202499,
     "end_time": "2025-10-03T13:08:40.710680",
     "exception": false,
     "start_time": "2025-10-03T13:08:40.508181",
     "status": "completed"
    },
    "tags": []
   },
   "outputs": [
    {
     "data": {
      "text/plain": [
       "[<matplotlib.lines.Line2D at 0x7b41e85c39d0>]"
      ]
     },
     "execution_count": 17,
     "metadata": {},
     "output_type": "execute_result"
    },
    {
     "data": {
      "image/png": "[encoded data removed]",
      "text/plain": [
       "<Figure size 640x480 with 1 Axes>"
      ]
     },
     "metadata": {},
     "output_type": "display_data"
    }
   ],
   "source": [
    "plt.scatter(X_train, y_train)\n",
    "plt.plot(X_train, regression.predict(X_train))"
   ]
  },
  {
   "cell_type": "code",
   "execution_count": 18,
   "id": "93ea2bae",
   "metadata": {
    "execution": {
     "iopub.execute_input": "2025-10-03T13:08:40.727096Z",
     "iopub.status.busy": "2025-10-03T13:08:40.726813Z",
     "iopub.status.idle": "2025-10-03T13:08:40.734767Z",
     "shell.execute_reply": "2025-10-03T13:08:40.733821Z"
    },
    "papermill": {
     "duration": 0.017983,
     "end_time": "2025-10-03T13:08:40.736230",
     "exception": false,
     "start_time": "2025-10-03T13:08:40.718247",
     "status": "completed"
    },
    "tags": []
   },
   "outputs": [
    {
     "data": {
      "text/plain": [
       "(37.53824763154711, 5.27799396130024)"
      ]
     },
     "execution_count": 18,
     "metadata": {},
     "output_type": "execute_result"
    }
   ],
   "source": [
    "from sklearn.metrics import mean_absolute_error, mean_squared_error\n",
    "mae = mean_absolute_error(y_test, y_pred)\n",
    "mse = mean_squared_error(y_test, y_pred)\n",
    "mse, mae"
   ]
  },
  {
   "cell_type": "code",
   "execution_count": 19,
   "id": "22c620b5",
   "metadata": {
    "execution": {
     "iopub.execute_input": "2025-10-03T13:08:40.750908Z",
     "iopub.status.busy": "2025-10-03T13:08:40.750589Z",
     "iopub.status.idle": "2025-10-03T13:08:40.957628Z",
     "shell.execute_reply": "2025-10-03T13:08:40.956726Z"
    },
    "papermill": {
     "duration": 0.21613,
     "end_time": "2025-10-03T13:08:40.959277",
     "exception": false,
     "start_time": "2025-10-03T13:08:40.743147",
     "status": "completed"
    },
    "tags": []
   },
   "outputs": [
    {
     "data": {
      "text/plain": [
       "<matplotlib.collections.PathCollection at 0x7b41e7641850>"
      ]
     },
     "execution_count": 19,
     "metadata": {},
     "output_type": "execute_result"
    },
    {
     "data": {
      "image/png": "[encoded data removed]",
      "text/plain": [
       "<Figure size 640x480 with 1 Axes>"
      ]
     },
     "metadata": {},
     "output_type": "display_data"
    }
   ],
   "source": [
    "plt.scatter(X_test, y_test)\n",
    "plt.scatter(X_test, y_pred)\n",
    "plt.scatter(X_train, y_train)"
   ]
  }
 ],
 "metadata": {
  "kaggle": {
   "accelerator": "none",
   "dataSources": [
    {
     "datasetId": 8396346,
     "sourceId": 13250720,
     "sourceType": "datasetVersion"
    }
   ],
   "dockerImageVersionId": 31089,
   "isGpuEnabled": false,
   "isInternetEnabled": true,
   "language": "python",
   "sourceType": "notebook"
  },
  "kernelspec": {
   "display_name": "Python 3",
   "language": "python",
   "name": "python3"
  },
  "language_info": {
   "codemirror_mode": {
    "name": "ipython",
    "version": 3
   },
   "file_extension": ".py",
   "mimetype": "text/x-python",
   "name": "python",
   "nbconvert_exporter": "python",
   "pygments_lexer": "ipython3",
   "version": "3.11.13"
  },
  "papermill": {
   "default_parameters": {},
   "duration": 21.939758,
   "end_time": "2025-10-03T13:08:41.789894",
   "environment_variables": {},
   "exception": null,
   "input_path": "__notebook__.ipynb",
   "output_path": "__notebook__.ipynb",
   "parameters": {},
   "start_time": "2025-10-03T13:08:19.850136",
   "version": "2.6.0"
  }
 },
 "nbformat": 4,
 "nbformat_minor": 5
}
